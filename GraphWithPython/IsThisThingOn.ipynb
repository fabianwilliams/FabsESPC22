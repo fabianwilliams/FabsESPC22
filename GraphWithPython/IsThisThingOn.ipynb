{
 "cells": [
  {
   "cell_type": "code",
   "execution_count": 1,
   "id": "c469a4e5",
   "metadata": {},
   "outputs": [
    {
     "name": "stdout",
     "output_type": "stream",
     "text": [
      "Hello Fabian\n"
     ]
    }
   ],
   "source": [
    "print('Hello Fabian')"
   ]
  },
  {
   "cell_type": "code",
   "execution_count": 2,
   "id": "53e973ae",
   "metadata": {},
   "outputs": [],
   "source": [
    "import configparser\n",
    "from Graph import Graph"
   ]
  },
  {
   "cell_type": "code",
   "execution_count": 3,
   "id": "dc3b04b8",
   "metadata": {},
   "outputs": [],
   "source": [
    "# Load settings\n",
    "config = configparser.ConfigParser()\n",
    "config.read('config.cfg')\n",
    "azure_settings = config['azure']\n",
    "\n",
    "graph: Graph = Graph(azure_settings)"
   ]
  },
  {
   "cell_type": "markdown",
   "id": "a3ec734a",
   "metadata": {},
   "source": [
    "## Function to Greet the Logged in user"
   ]
  },
  {
   "cell_type": "code",
   "execution_count": 4,
   "id": "85035a29",
   "metadata": {},
   "outputs": [],
   "source": [
    "def greet_user(graph: Graph):\n",
    "    user = graph.get_user()\n",
    "    print('Hello,', user['displayName'])\n",
    "    # For Work/school accounts, email is in mail property\n",
    "    # Personal accounts, email is in userPrincipalName\n",
    "    print('Email:', user['mail'] or user['userPrincipalName'], '\\n')"
   ]
  },
  {
   "cell_type": "markdown",
   "id": "ea90bdfd",
   "metadata": {},
   "source": [
    "### Execute the Greeting"
   ]
  },
  {
   "cell_type": "code",
   "execution_count": 5,
   "id": "f6688aa8",
   "metadata": {},
   "outputs": [
    {
     "name": "stdout",
     "output_type": "stream",
     "text": [
      "To sign in, use a web browser to open the page https://microsoft.com/devicelogin and enter the code R2GC8FRH4 to authenticate.\n",
      "Hello, Fabian Williams\n",
      "Email: fabian@fabster.onmicrosoft.com \n",
      "\n"
     ]
    }
   ],
   "source": [
    "greet_user(graph)"
   ]
  },
  {
   "cell_type": "code",
   "execution_count": null,
   "id": "6284f004",
   "metadata": {},
   "outputs": [],
   "source": []
  }
 ],
 "metadata": {
  "kernelspec": {
   "display_name": "Python 3 (ipykernel)",
   "language": "python",
   "name": "python3"
  },
  "language_info": {
   "codemirror_mode": {
    "name": "ipython",
    "version": 3
   },
   "file_extension": ".py",
   "mimetype": "text/x-python",
   "name": "python",
   "nbconvert_exporter": "python",
   "pygments_lexer": "ipython3",
   "version": "3.9.12"
  }
 },
 "nbformat": 4,
 "nbformat_minor": 5
}
